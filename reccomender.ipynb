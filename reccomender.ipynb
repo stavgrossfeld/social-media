{
 "cells": [
  {
   "cell_type": "code",
   "execution_count": 11,
   "metadata": {
    "collapsed": true
   },
   "outputs": [],
   "source": [
    "import numpy as np\n",
    "import pandas as pd\n",
    "import requests\n",
    "from scrapy.selector import Selector\n",
    "from scrapy.http import HtmlResponse"
   ]
  },
  {
   "cell_type": "code",
   "execution_count": 13,
   "metadata": {
    "collapsed": false,
    "scrolled": true
   },
   "outputs": [],
   "source": [
    "#scrape restaurant names\n",
    "HTML_list = []\n",
    "for i in np.arange(0,1000,10):\n",
    "    url = 'https://www.yelp.com/search?find_loc=San+Francisco,+CA,+USA&start=%s&cflt=restaurants' %i\n",
    "    #print url\n",
    "    response = requests.get(url)\n",
    "    HTML_list.append(response.text)\n",
    "\n",
    "results_list = []\n",
    "for page in HTML_list:\n",
    "    results = Selector(text=page).xpath(\"//span[@class='indexed-biz-name']/a[@class='biz-name js-analytics-click']/span\")\n",
    "    results_list.append(results)\n",
    "    \n",
    "restaurant_name_list = []\n",
    "for result in results_list:\n",
    "        for name in result:\n",
    "            restaurant_name_list.append(name.xpath(\"text()\").extract())"
   ]
  },
  {
   "cell_type": "code",
   "execution_count": 14,
   "metadata": {
    "collapsed": false
   },
   "outputs": [],
   "source": [
    "#scrape bar names\n",
    "HTML_list = []\n",
    "for i in np.arange(0,1000,10):\n",
    "    url = 'https://www.yelp.com/search?find_loc=San+Francisco,+CA,+USA&start=%s&cflt=bars' %i\n",
    "    #print url\n",
    "    response = requests.get(url)\n",
    "    HTML_list.append(response.text)\n",
    "\n",
    "bar_results_list = []\n",
    "for page in HTML_list:\n",
    "    bar_results = Selector(text=page).xpath(\"//span[@class='indexed-biz-name']/a[@class='biz-name js-analytics-click']/span\")\n",
    "    bar_results_list.append(bar_results)\n",
    "    \n",
    "bar_name_list = []\n",
    "for result in bar_results_list:\n",
    "        for bar in result:\n",
    "            bar_name_list.append(bar.xpath(\"text()\").extract())\n"
   ]
  },
  {
   "cell_type": "code",
   "execution_count": 19,
   "metadata": {
    "collapsed": false
   },
   "outputs": [],
   "source": [
    "restaurant_name_list = pd.Series(restaurant_name_list)\n",
    "restaurant_name_list = restaurant_name_list.apply(lambda x: x[0].encode('ascii', 'ignore').rstrip().lstrip().replace(' ','-').replace('.','').replace(\"\\u2019\",''))"
   ]
  },
  {
   "cell_type": "code",
   "execution_count": 15,
   "metadata": {
    "collapsed": true
   },
   "outputs": [],
   "source": [
    "bar_name_list = pd.Series(bar_name_list)\n",
    "bar_name_list = bar_name_list.apply(lambda x: x[0].encode('ascii', 'ignore').rstrip().lstrip().replace(' ','-').replace('.','').replace(\"\\u2019\",''))"
   ]
  },
  {
   "cell_type": "code",
   "execution_count": 16,
   "metadata": {
    "collapsed": false,
    "scrolled": true
   },
   "outputs": [
    {
     "data": {
      "text/plain": [
       "0                       Benjamin-Cooper\n",
       "1            The-Black-Horse-London-Pub\n",
       "2                        Smugglers-Cove\n",
       "3                            Holy-Water\n",
       "4                      The-Social-Study\n",
       "5                                   ABV\n",
       "6                           The-Alembic\n",
       "7                            Third-Rail\n",
       "8                          Fireside-Bar\n",
       "9                             Blackbird\n",
       "10                         High-Treason\n",
       "11           Ferment-Drink-Repeat---FDR\n",
       "12              Speakeasy-Ales-&-Lagers\n",
       "13                            Shotwells\n",
       "14                            Buzzworks\n",
       "15               Alchemist-Bar-&-Lounge\n",
       "16                              Bar-821\n",
       "17                        The-Beer-Hall\n",
       "18                              Bar-587\n",
       "19                           Bloodhound\n",
       "20                            Trick-Dog\n",
       "21               Pacific-Cocktail-Haven\n",
       "22                               Oddjob\n",
       "23                         Horsefeather\n",
       "24                        Valley-Tavern\n",
       "25            Two-Sisters-Bar-and-Books\n",
       "26                               Bodega\n",
       "27                             Toronado\n",
       "28                Hopwater-Distribution\n",
       "29                              Tempest\n",
       "                     ...               \n",
       "970                 Tikal-Billiards-Bar\n",
       "971    CCs-Pierce-St-Manor-Cocktail-Llc\n",
       "972             WhiteCaps-Drinks-+-Eats\n",
       "973                 Mission-Bar-&-Grill\n",
       "974                  Z-Seafood-&-Lounge\n",
       "975                     Wine-Bar-&-Shop\n",
       "976                           The-Annex\n",
       "977                    Sams-Anchor-Cafe\n",
       "978                  Original-McCarthys\n",
       "979                           Applebees\n",
       "980                              Harlot\n",
       "981           Wellcome-Bar-&-Restaurant\n",
       "982                                Onyx\n",
       "983                      Backlit-Lounge\n",
       "984               Flyte-Wine-&-Beer-Bar\n",
       "985                         El-Mexicano\n",
       "986                    Forbidden-Island\n",
       "987             Cove-Cantina-Oyster-Bar\n",
       "988                     Fireside-Lounge\n",
       "989                        Tiburon-Wine\n",
       "990                           Bars-Plus\n",
       "991                        Prizefighter\n",
       "992                         The-Caprice\n",
       "993          Coors-Light-Silver-Bullpen\n",
       "994                        The-Trappist\n",
       "995                       The-Game-Room\n",
       "996                      Boulevard-Cafe\n",
       "997                                Dada\n",
       "998                     Mandarin-Lounge\n",
       "999                     Beer-Revolution\n",
       "dtype: object"
      ]
     },
     "execution_count": 16,
     "metadata": {},
     "output_type": "execute_result"
    }
   ],
   "source": [
    "bar_name_list"
   ]
  },
  {
   "cell_type": "code",
   "execution_count": 20,
   "metadata": {
    "collapsed": false,
    "scrolled": false
   },
   "outputs": [
    {
     "data": {
      "text/plain": [
       "0                                 Ichido\n",
       "1                           b-Patisserie\n",
       "2                       Cuisine-of-Nepal\n",
       "3                            Casa-Flores\n",
       "4                                Tacorea\n",
       "5                                Frances\n",
       "6                                Dakshin\n",
       "7                              Sugarfoot\n",
       "8                  State-Bird-Provisions\n",
       "9               Brendas-French-Soul-Food\n",
       "10                                  Nopa\n",
       "11                               Paprika\n",
       "12                               Ro-Cafe\n",
       "13              Italian-Homemade-Company\n",
       "14                          Rove-Kitchen\n",
       "15                           El-Farolito\n",
       "16                          No-No-Burger\n",
       "17                                   Lol\n",
       "18                               Hogwash\n",
       "19                            Chez-Maman\n",
       "20                          No-No-Burger\n",
       "21                                   Lol\n",
       "22                             Nightbird\n",
       "23                               Hogwash\n",
       "24                            Chez-Maman\n",
       "25                               Pokihub\n",
       "26                          The-Chairman\n",
       "27                             Buzzworks\n",
       "28                            Kebab-King\n",
       "29                               20-Spot\n",
       "                     ...                \n",
       "970                     Paulies-Pickling\n",
       "971    Plj-Scandinavian-Restaurant-&-Bar\n",
       "972                              Cassava\n",
       "973                       Sutter-St-Cafe\n",
       "974                Crepes-Sil-Vous-Plait\n",
       "975                             Les-Clos\n",
       "976                        Calabria-Bros\n",
       "977                                 Newa\n",
       "978                 Grumpys-American-Pub\n",
       "979                          PizzaHacker\n",
       "980                        Il-Canto-Cafe\n",
       "981                   Pops-Sandwich-Shop\n",
       "982      Auntie-Aprils-Chicken-n-Waffles\n",
       "983                         Golden-Lotus\n",
       "984                         Curry-Up-Now\n",
       "985                        Chubby-Noodle\n",
       "986            Volare-Pizza-&-Restaurant\n",
       "987                 Yin-Du-Wonton-Noodle\n",
       "988                        Pacific-Catch\n",
       "989                                  OEC\n",
       "990                          Smashburger\n",
       "991          Higher-Grounds-Coffee-House\n",
       "992                 The-Little-Chihuahua\n",
       "993                                Swamp\n",
       "994           Eureka-Restaurant-&-Lounge\n",
       "995                    Precita-Park-Cafe\n",
       "996                     Dumpling-Kitchen\n",
       "997                        Little-Baobab\n",
       "998                           Bistro-Aix\n",
       "999                              Joo-Mak\n",
       "dtype: object"
      ]
     },
     "execution_count": 20,
     "metadata": {},
     "output_type": "execute_result"
    }
   ],
   "source": [
    "restaurant_name_list"
   ]
  },
  {
   "cell_type": "code",
   "execution_count": 154,
   "metadata": {
    "collapsed": true
   },
   "outputs": [],
   "source": [
    "# Please only run this frame once to avoid hitting the site too hard all at once\n",
    "def yelp_func(search_key):\n",
    "    import requests\n",
    "\n",
    "    # Search parameters -- for convenience \n",
    "\n",
    "    # Search and location get replaced in the next few lines\n",
    "\n",
    "    HTML_list = []\n",
    "\n",
    "    for i in [\"?start=%d\" %d for d in range(0,20,20)]:\n",
    "        url = search_key+\"%s\" %i\n",
    "        #print url\n",
    "        response = requests.get(url)\n",
    "        HTML_list.append(response.text)\n",
    "\n",
    "    reviews_list = []\n",
    "    from scrapy.selector import Selector\n",
    "    from scrapy.http import HtmlResponse\n",
    "\n",
    "    results_list = []\n",
    "    for page in HTML_list:\n",
    "    # This xpath query will find the number of total results\n",
    "        results = Selector(text=page).xpath(\"//div[@class='review-wrapper']/div[@class='review-content']/p\")\n",
    "        results_list.append(results)\n",
    "\n",
    "    for result in results_list:\n",
    "        for review in result:\n",
    "            reviews_list.append(review.xpath(\"text()\").extract())\n",
    "    #total_results = int(results[0].extract())\n",
    "    #total_results\n",
    "\n",
    "\n",
    "    southern_pacific = []\n",
    "    for i in reviews_list:\n",
    "        southern_pacific.append(i)\n",
    "    return southern_pacific"
   ]
  },
  {
   "cell_type": "code",
   "execution_count": 153,
   "metadata": {
    "collapsed": true
   },
   "outputs": [],
   "source": [
    "scraped_reviews = {}\n",
    "for i in restaurant_name_list:\n",
    "    try:\n",
    "        scraped_reviews[i] = yelp_func('https://www.yelp.com/biz/%s-san-francisco' %i)\n",
    "    except: \n",
    "        continue\n",
    "      "
   ]
  },
  {
   "cell_type": "code",
   "execution_count": 152,
   "metadata": {
    "collapsed": false,
    "scrolled": false
   },
   "outputs": [
    {
     "data": {
      "text/html": [
       "<div>\n",
       "<table border=\"1\" class=\"dataframe\">\n",
       "  <thead>\n",
       "    <tr style=\"text-align: right;\">\n",
       "      <th></th>\n",
       "      <th>0</th>\n",
       "    </tr>\n",
       "  </thead>\n",
       "  <tbody>\n",
       "    <tr>\n",
       "      <th>Sugarfoot</th>\n",
       "      <td>[[Sugarfoot consistently has delectable goodie...</td>\n",
       "    </tr>\n",
       "    <tr>\n",
       "      <th>Dakshin</th>\n",
       "      <td>[[5 stars well deserved!! This place is freaki...</td>\n",
       "    </tr>\n",
       "    <tr>\n",
       "      <th>Brendas-French-Soul-Food</th>\n",
       "      <td>[[SOUL food is right! I've raved about Brenda'...</td>\n",
       "    </tr>\n",
       "    <tr>\n",
       "      <th>Tacorea</th>\n",
       "      <td>[[Found this place on Yelp, and had to check i...</td>\n",
       "    </tr>\n",
       "    <tr>\n",
       "      <th>State-Bird-Provisions</th>\n",
       "      <td>[[This place is so amazing i don't even know w...</td>\n",
       "    </tr>\n",
       "    <tr>\n",
       "      <th>Frances</th>\n",
       "      <td>[[A solid 5-stars. A farm to table approach- e...</td>\n",
       "    </tr>\n",
       "    <tr>\n",
       "      <th>Cuisine-of-Nepal</th>\n",
       "      <td>[[Ordered pick up on Yelp Eat24. , I got the r...</td>\n",
       "    </tr>\n",
       "    <tr>\n",
       "      <th>Casa-Flores</th>\n",
       "      <td>[[I was looking around to see what to do for m...</td>\n",
       "    </tr>\n",
       "    <tr>\n",
       "      <th>Ichido</th>\n",
       "      <td>[[Fairly insane. Never done a meal like this, ...</td>\n",
       "    </tr>\n",
       "    <tr>\n",
       "      <th>b-Patisserie</th>\n",
       "      <td>[[these macaroons are the crack candy of macar...</td>\n",
       "    </tr>\n",
       "  </tbody>\n",
       "</table>\n",
       "</div>"
      ],
      "text/plain": [
       "                                                                          0\n",
       "Sugarfoot                 [[Sugarfoot consistently has delectable goodie...\n",
       "Dakshin                   [[5 stars well deserved!! This place is freaki...\n",
       "Brendas-French-Soul-Food  [[SOUL food is right! I've raved about Brenda'...\n",
       "Tacorea                   [[Found this place on Yelp, and had to check i...\n",
       "State-Bird-Provisions     [[This place is so amazing i don't even know w...\n",
       "Frances                   [[A solid 5-stars. A farm to table approach- e...\n",
       "Cuisine-of-Nepal          [[Ordered pick up on Yelp Eat24. , I got the r...\n",
       "Casa-Flores               [[I was looking around to see what to do for m...\n",
       "Ichido                    [[Fairly insane. Never done a meal like this, ...\n",
       "b-Patisserie              [[these macaroons are the crack candy of macar..."
      ]
     },
     "execution_count": 152,
     "metadata": {},
     "output_type": "execute_result"
    }
   ],
   "source": [
    "df = pd.DataFrame(np.array([scraped_reviews[i] for i in scraped_reviews.keys()]), scraped_reviews.keys())"
   ]
  },
  {
   "cell_type": "code",
   "execution_count": 118,
   "metadata": {
    "collapsed": false
   },
   "outputs": [
    {
     "data": {
      "text/plain": [
       "0    [[Sugarfoot consistently has delectable goodie...\n",
       "1    [[5 stars well deserved!! This place is freaki...\n",
       "2    [[SOUL food is right! I've raved about Brenda'...\n",
       "3    [[Found this place on Yelp, and had to check i...\n",
       "4    [[This place is so amazing i don't even know w...\n",
       "5    [[A solid 5-stars. A farm to table approach- e...\n",
       "6    [[Ordered pick up on Yelp Eat24. , I got the r...\n",
       "7    [[I was looking around to see what to do for m...\n",
       "8    [[Fairly insane. Never done a meal like this, ...\n",
       "9    [[these macaroons are the crack candy of macar...\n",
       "dtype: object"
      ]
     },
     "execution_count": 118,
     "metadata": {},
     "output_type": "execute_result"
    }
   ],
   "source": [
    "pd.Series([scraped_reviews[i] for i in scraped_reviews.keys()])"
   ]
  },
  {
   "cell_type": "code",
   "execution_count": 75,
   "metadata": {
    "collapsed": true
   },
   "outputs": [],
   "source": [
    "import re\n",
    "from nltk.corpus import stopwords # Import the stop word list\n",
    "\n",
    "def review_to_words( raw_review ):\n",
    "    # Function to convert a raw review to a string of words\n",
    "    # The input is a single string (a raw movie review), and \n",
    "    # the output is a single string (a preprocessed movie review)\n",
    "    \n",
    "    letters_only = raw_review.decode(\"utf-8\", \"strict\")\n",
    "    \n",
    "    letters_only = re.sub(\"[^a-zA-Z]\", \" \", raw_review) \n",
    "    #\n",
    "    # 3. Convert to lower case, split into individual words\n",
    "    words = letters_only.lower().split()                             \n",
    "    #\n",
    "    # 4. In Python, searching a set is much faster than searching\n",
    "    #   a list, so convert the stop words to a set\n",
    "\n",
    "    stops = set(stopwords.words(\"english\"))                  \n",
    "    # \n",
    "    # 5. Remove stop words\n",
    "    meaningful_words = [w for w in words if not w in stops]   \n",
    "    #\n",
    "    # 6. Join the words back into one string separated by space, \n",
    "    # and return the result.\n",
    "    return( \" \".join( meaningful_words ))  "
   ]
  },
  {
   "cell_type": "code",
   "execution_count": null,
   "metadata": {
    "collapsed": true
   },
   "outputs": [],
   "source": [
    "short_cloud = {}\n",
    "for i in new_cloud:\n",
    "    try:\n",
    "        new_cloud[i] = new_cloud[i].set_index('word').drop('xa').reset_index().sort_values('count', ascending = False)   \n",
    "        short_cloud = new_cloud[i][0:20]\n",
    "    except:\n",
    "        new_cloud[i] = new_cloud[i].sort_values('count', ascending = False)\n",
    "        short_cloud[i] = new_cloud[i][0:20]\n"
   ]
  }
 ],
 "metadata": {
  "anaconda-cloud": {},
  "kernelspec": {
   "display_name": "Python [conda env:dsi]",
   "language": "python",
   "name": "conda-env-dsi-py"
  },
  "language_info": {
   "codemirror_mode": {
    "name": "ipython",
    "version": 2
   },
   "file_extension": ".py",
   "mimetype": "text/x-python",
   "name": "python",
   "nbconvert_exporter": "python",
   "pygments_lexer": "ipython2",
   "version": "2.7.12"
  }
 },
 "nbformat": 4,
 "nbformat_minor": 1
}
