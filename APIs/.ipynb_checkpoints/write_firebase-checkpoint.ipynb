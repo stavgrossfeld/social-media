{
 "cells": [
  {
   "cell_type": "code",
   "execution_count": 145,
   "metadata": {
    "collapsed": true
   },
   "outputs": [],
   "source": [
    "#https://github.com/shariq/firebase-python"
   ]
  },
  {
   "cell_type": "code",
   "execution_count": null,
   "metadata": {
    "collapsed": false,
    "scrolled": false
   },
   "outputs": [],
   "source": [
    "from firebase import firebase   # secret                              email\n",
    "auth_token = firebase.FirebaseAuthentication('secret', 'secret@email.com', extra={'id': 123})\n",
    "\n",
    "\n",
    "URL = 'Secret@email'\n",
    "firebase = firebase.FirebaseApplication(URL, authentication=auth_token)\n",
    "\n",
    "\n",
    "import json\n",
    "\n",
    "# your variables are already assigned before thi\n",
    "\n",
    "firebase.patch(URL+'customers/' ,{2:'####'})\n",
    "\n",
    "#print firebase.post('/customers/',{2:\"YEA\"})\n",
    "\n"
   ]
  },
  {
   "cell_type": "code",
   "execution_count": 89,
   "metadata": {
    "collapsed": false
   },
   "outputs": [
    {
     "name": "stdout",
     "output_type": "stream",
     "text": [
      "{u'1': u'Donald Trump', u'0': u'Hillary Clinton', u'-KY0cGx8DVJNgxZUS3_T': u'{\"2\": \"yea\"}'}\n"
     ]
    }
   ],
   "source": [
    "print firebase.get(URL,'/customers')"
   ]
  },
  {
   "cell_type": "code",
   "execution_count": 72,
   "metadata": {
    "collapsed": false
   },
   "outputs": [
    {
     "data": {
      "text/plain": [
       "u'Hillary Clinton'"
      ]
     },
     "execution_count": 72,
     "metadata": {},
     "output_type": "execute_result"
    }
   ],
   "source": [
    "firebase.get('/customers/',0)"
   ]
  },
  {
   "cell_type": "code",
   "execution_count": 102,
   "metadata": {
    "collapsed": true
   },
   "outputs": [],
   "source": [
    "import twitter, re, datetime, pandas as pd\n",
    "import tweepy\n",
    "import datetime\n",
    "import re\n",
    "import HTMLParser\n",
    "import numpy as np\n",
    "from nltk.corpus import stopwords # Import the stop word list\n",
    "\n",
    "twitter_keys = {\n",
    "    'consumer_key':        'dhZbJCvhl79hmz6eGpsy6WRfY',\n",
    "    'consumer_secret':     'TaBDp9pXOlQcxbhELuyzDFilEz5onut1hDtuOAPOYmQu15Veby',\n",
    "    'access_token_key':    '729878120338063360-RuyFwFOyq9rsRk0X8FMhkbnBxeasaL0',\n",
    "    'access_token_secret': 'TRuE65px8xUj76ayD2ffiv3lhabTTFHBHp1R6fa92k8oU'\n",
    "}\n",
    "\n",
    "auth = tweepy.OAuthHandler(twitter_keys['consumer_key'], twitter_keys['consumer_secret'])\n",
    "auth.set_access_token(twitter_keys['access_token_key'], twitter_keys['access_token_secret'])\n",
    "\n",
    "api = tweepy.API(auth)\n"
   ]
  },
  {
   "cell_type": "code",
   "execution_count": 106,
   "metadata": {
    "collapsed": false
   },
   "outputs": [
    {
     "data": {
      "text/plain": [
       "{u'%22J+Cole%22': 1009354,\n",
       " u'%22Shia+LaBeouf%22': 13279,\n",
       " u'%23FlashbackFriday': 25081,\n",
       " u'%23FridayFeeling': 108718,\n",
       " u'%23JoeMcKnight': 23126,\n",
       " u'%23M05FCB': 16637,\n",
       " u'%23MakeAFilmSmellTerrible': 16180,\n",
       " u'%23NUFC': 23160,\n",
       " u'%23NoDAPL': 87033,\n",
       " u'%23WalterScott': 20359,\n",
       " u'America': 452453,\n",
       " u'Cowboys': 271890,\n",
       " u'Kodak': 312462,\n",
       " u'Taeyeon': 655856,\n",
       " u'Taiwan': 32925,\n",
       " u'Warriors': 111636}"
      ]
     },
     "execution_count": 106,
     "metadata": {},
     "output_type": "execute_result"
    }
   ],
   "source": [
    "sf = 2487956\n",
    "\n",
    "trending\n",
    "trending = api.trends_place(sf)   #request api\n",
    "trending_dict = {}  # create dict for each trend\n",
    "for i in trending:  #for the trending in each city\n",
    "    for trend in i['trends']:   # get the trend \n",
    "        if trend['tweet_volume'] > 1000:  #if volume higher than 1000 tweets\n",
    "            #print str(trend['query']), trend['url']\n",
    "            trending_dict[trend['query']] = trend['tweet_volume']  #append the querry"
   ]
  },
  {
   "cell_type": "code",
   "execution_count": 139,
   "metadata": {
    "collapsed": false
   },
   "outputs": [],
   "source": [
    "tweets_df = pd.DataFrame(trending_dict, index = [1]).transpose().reset_index().rename(columns = {'index':'tweet', 1:'volume'})\n",
    "\n",
    "tweets_df.tweet = tweets_df.tweet.apply(lambda x: x.encode('utf-8'))\n",
    "tweets_df.tweet = tweets_df.tweet.apply(lambda x: re.sub(\"[^a-zA-Z0-9\\+]\", \"\",x))\n",
    "tweets_df.tweet = tweets_df.tweet.apply(lambda x: x.replace('23',''))\n",
    "tweets_df.tweet = tweets_df.tweet.apply(lambda x: x.replace('22',''))\n",
    "tweets_df.tweet = tweets_df.tweet.apply(lambda x: x.replace('+',''))\n",
    "sorted_tweets_df = tweets_df.sort_values('volume', ascending = False)"
   ]
  },
  {
   "cell_type": "code",
   "execution_count": 144,
   "metadata": {
    "collapsed": false
   },
   "outputs": [],
   "source": [
    "# for each tweet push up trendings to firebase\n",
    "\n",
    "for i,post_tweet in enumerate(sorted_tweets_df.tweet):\n",
    "    num = i+2\n",
    "    firebase.patch(URL+'customers/' ,{num:post_tweet})\n",
    "\n",
    "    "
   ]
  },
  {
   "cell_type": "code",
   "execution_count": 50,
   "metadata": {
    "collapsed": false
   },
   "outputs": [
    {
     "data": {
      "text/plain": [
       "<firebase.firebase.FirebaseUser at 0x104584050>"
      ]
     },
     "execution_count": 50,
     "metadata": {},
     "output_type": "execute_result"
    }
   ],
   "source": [
    "user"
   ]
  }
 ],
 "metadata": {
  "anaconda-cloud": {},
  "kernelspec": {
   "display_name": "Python [default]",
   "language": "python",
   "name": "python2"
  },
  "language_info": {
   "codemirror_mode": {
    "name": "ipython",
    "version": 2
   },
   "file_extension": ".py",
   "mimetype": "text/x-python",
   "name": "python",
   "nbconvert_exporter": "python",
   "pygments_lexer": "ipython2",
   "version": "2.7.12"
  }
 },
 "nbformat": 4,
 "nbformat_minor": 1
}
